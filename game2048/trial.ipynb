{
 "cells": [
  {
   "cell_type": "code",
   "execution_count": 7,
   "metadata": {},
   "outputs": [
    {
     "name": "stdout",
     "output_type": "stream",
     "text": [
      "[[ 8  2  2  0]\n",
      " [ 4  2  0  0]\n",
      " [16  4  0  0]\n",
      " [32  8  2  4]]\n"
     ]
    }
   ],
   "source": [
    "import json\n",
    "import numpy as np\n",
    "import torch\n",
    "import torch.nn as nn\n",
    "import torch.utils.data as data\n",
    "import torchvision\n",
    "import torchvision.transforms as transforms\n",
    "from tqdm import tqdm\n",
    "\n",
    "BATCH_SIZE = 128\n",
    "NUM_EPOCHS = 10\n",
    "\n",
    "with open(\"../board_cases.json\") as f:\n",
    "    board_json = json.load(f)\n",
    "\n",
    "print(np.array(board_json[0]))"
   ]
  },
  {
   "cell_type": "code",
   "execution_count": 3,
   "metadata": {},
   "outputs": [
    {
     "name": "stdout",
     "output_type": "stream",
     "text": [
      "{2: 1, 4: 2, 8: 3, 16: 4, 32: 5, 64: 6, 128: 7, 256: 8, 512: 9, 1024: 10, 2048: 11, 4096: 12, 8192: 13, 16384: 14, 32768: 15, 0: 0}\n"
     ]
    }
   ],
   "source": [
    "OUT_SHAPE = (4,4)\n",
    "CAND = 16\n",
    "map_table = {2**i: i for i in range(1,CAND)}\n",
    "map_table[0] = 0\n",
    "\n",
    "print(map_table)"
   ]
  },
  {
   "cell_type": "code",
   "execution_count": 12,
   "metadata": {},
   "outputs": [
    {
     "name": "stdout",
     "output_type": "stream",
     "text": [
      "[[[0 0 0 1 0 0 0 0 0 0 0 0 0 0 0 0]\n",
      "  [0 1 0 0 0 0 0 0 0 0 0 0 0 0 0 0]\n",
      "  [0 1 0 0 0 0 0 0 0 0 0 0 0 0 0 0]\n",
      "  [1 0 0 0 0 0 0 0 0 0 0 0 0 0 0 0]]\n",
      "\n",
      " [[0 0 1 0 0 0 0 0 0 0 0 0 0 0 0 0]\n",
      "  [0 1 0 0 0 0 0 0 0 0 0 0 0 0 0 0]\n",
      "  [1 0 0 0 0 0 0 0 0 0 0 0 0 0 0 0]\n",
      "  [1 0 0 0 0 0 0 0 0 0 0 0 0 0 0 0]]\n",
      "\n",
      " [[0 0 0 0 1 0 0 0 0 0 0 0 0 0 0 0]\n",
      "  [0 0 1 0 0 0 0 0 0 0 0 0 0 0 0 0]\n",
      "  [1 0 0 0 0 0 0 0 0 0 0 0 0 0 0 0]\n",
      "  [1 0 0 0 0 0 0 0 0 0 0 0 0 0 0 0]]\n",
      "\n",
      " [[0 0 0 0 0 1 0 0 0 0 0 0 0 0 0 0]\n",
      "  [0 0 0 1 0 0 0 0 0 0 0 0 0 0 0 0]\n",
      "  [0 1 0 0 0 0 0 0 0 0 0 0 0 0 0 0]\n",
      "  [0 0 1 0 0 0 0 0 0 0 0 0 0 0 0 0]]]\n"
     ]
    }
   ],
   "source": [
    "def grid_ohe(arr):\n",
    "    ret = np.zeros(shape = OUT_SHAPE + (CAND,), dtype = int)\n",
    "    for r in range(OUT_SHAPE[0]):\n",
    "        for c in range(OUT_SHAPE[1]):\n",
    "            ret[r,c,map_table[arr[r,c]]] = 1\n",
    "    return ret\n",
    "\n",
    "# print(grid_ohe(np.array(board_json[0])))"
   ]
  },
  {
   "cell_type": "code",
   "execution_count": null,
   "metadata": {},
   "outputs": [],
   "source": [
    "# preprocessing\n",
    "normalize = transforms.Normalize(mean=[.5], std=[.5])\n",
    "transform = transforms.Compose([transforms.ToTensor(), normalize])\n",
    "\n",
    "# load the data\n",
    "# train_dataset = torchvision.datasets.MNIST(root='./mnist/', train=True, transform=transform, download=True)\n",
    "\n",
    "# encapsulate them into dataloader form\n",
    "train_loader = data.DataLoader(train_dataset, batch_size=BATCH_SIZE, shuffle=True, drop_last=True)\n",
    "train_x = torch.unsqueeze(train_dataset.train_data, dim=1).type(torch.FloatTensor)[:2000]/255.\n",
    "train_y = train_dataset.train_labels[:2000]"
   ]
  },
  {
   "cell_type": "code",
   "execution_count": 34,
   "metadata": {},
   "outputs": [
    {
     "name": "stdout",
     "output_type": "stream",
     "text": [
      "[[0 1 0 0]]\n"
     ]
    }
   ],
   "source": [
    "from agents import ExpectiMaxAgent\n",
    "from expectimax import board_to_move\n",
    "\n",
    "direction = board_to_move(np.array(board_json[0]))\n",
    "OUT_SHAPE1 = (1,4)\n",
    "\n",
    "def vector(index):\n",
    "    ret = np.zeros(shape = OUT_SHAPE1, dtype = int)\n",
    "    ret[0,index] = 1\n",
    "    return ret"
   ]
  },
  {
   "cell_type": "code",
   "execution_count": null,
   "metadata": {},
   "outputs": [],
   "source": [
    "class SimpleNet(nn.Module):\n",
    "# define model\n",
    "    def __init__(self):\n",
    "        super(SimpleNet, self).__init__()\n",
    "        self.conv1 = nn.Sequential(\n",
    "            nn.Conv2d(\n",
    "                in_channels=1,\n",
    "                out_channels=16,\n",
    "                kernel_size=5,\n",
    "                stride=1,\n",
    "                padding=2,\n",
    "            ),\n",
    "            nn.ReLU(),\n",
    "            nn.MaxPool2d(kernel_size=2), \n",
    "        )\n",
    "        self.conv2 = nn.Sequential(\n",
    "            nn.Conv2d(16, 32, 5, 1, 2),\n",
    "            nn.ReLU(),\n",
    "            nn.MaxPool2d(2),\n",
    "        )\n",
    "        self.out = nn.Linear(32 * 7 * 7, 10)\n",
    "        \n",
    "    def forward(self, x):\n",
    "        x = self.conv1(x)\n",
    "        x = self.conv2(x)\n",
    "        x = x.view(x.size(0), -1)\n",
    "        output = self.out(x)\n",
    "        return output, x\n",
    "    \n",
    "model = SimpleNet()\n",
    "\n",
    "# define loss function and optimiter\n",
    "criterion = torch.nn.CrossEntropyLoss()\n",
    "optimizer = torch.optim.Adam(model.parameters(), lr=0.001)"
   ]
  },
  {
   "cell_type": "code",
   "execution_count": null,
   "metadata": {},
   "outputs": [],
   "source": [
    "# train and evaluate\n",
    "for epoch in range(NUM_EPOCHS):\n",
    "    for step, (b_x, b_y) in enumerate(train_loader):\n",
    "    # for images, labels in tqdm(train_loader):\n",
    "        # forward + backward + optimize\n",
    "        output = model(b_x)[0]                 \n",
    "        loss = criterion(output, b_y)     \n",
    "        optimizer.zero_grad() \n",
    "        loss.backward()        \n",
    "        optimizer.step()\n",
    "            \n",
    "# evaluate\n",
    "# calculate the accuracy using traning and testing dataset\n",
    "train_output, last_layer = model(train_x)\n",
    "pred_ty = torch.max(train_output, 1)[1].data.squeeze().numpy()\n",
    "train_accuracy = float((pred_ty == train_y.data.numpy()).astype(int).sum()) / float(train_y.size(0))"
   ]
  }
 ],
 "metadata": {
  "kernelspec": {
   "display_name": "Python 3",
   "language": "python",
   "name": "python3"
  },
  "language_info": {
   "codemirror_mode": {
    "name": "ipython",
    "version": 3
   },
   "file_extension": ".py",
   "mimetype": "text/x-python",
   "name": "python",
   "nbconvert_exporter": "python",
   "pygments_lexer": "ipython3",
   "version": "3.7.0"
  }
 },
 "nbformat": 4,
 "nbformat_minor": 2
}
